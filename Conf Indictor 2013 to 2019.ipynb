{
 "cells": [
  {
   "cell_type": "code",
   "execution_count": 16,
   "metadata": {},
   "outputs": [],
   "source": [
    "import numpy as np\n",
    "import pandas as pd\n",
    "from scipy import stats\n",
    "\n",
    "from sklearn.model_selection import train_test_split\n",
    "from sklearn.naive_bayes import GaussianNB\n",
    "from sklearn import metrics\n",
    "\n",
    "import matplotlib.pyplot as plt\n",
    "import seaborn as sns\n"
   ]
  },
  {
   "cell_type": "markdown",
   "metadata": {},
   "source": [
    "# Conference Predictor\n",
    "## Custom Naive Bayes Functions"
   ]
  },
  {
   "cell_type": "code",
   "execution_count": 17,
   "metadata": {},
   "outputs": [],
   "source": [
    "def p_x_given_class(obs_row, feature, class_,aggs):\n",
    "    mu = aggs[feature]['mean'][class_]\n",
    "    std = aggs[feature]['std'][class_]\n",
    "\n",
    "    obs = obs_row[feature] #observation\n",
    "    \n",
    "    p_x_given_y = stats.norm.pdf(obs, loc=mu, scale=std)\n",
    "    return p_x_given_y\n",
    "\n",
    "def predict_class(obs_row,y_train,aggs,target_col=[0,1]):\n",
    "    c_probs = []\n",
    "    features_0 = {}\n",
    "    features_1 = {}\n",
    "    \n",
    "    for i in range(len(target_col)):\n",
    "        c = target_col[i]\n",
    "        p = len(y_train[y_train==c])/len(y_train) #Initialize probability to relative probability of class\n",
    "        for feature in X.columns:\n",
    "            p *= p_x_given_class(obs_row, feature, c,aggs)\n",
    "        c_probs.append(p)\n",
    "    \n",
    "    return target_col[np.argmax(c_probs)]\n",
    "\n",
    "def predict_class2(obs_row,y_train,aggs,target_col=[0,1]):\n",
    "    c_probs = []\n",
    "    features_0 = {}\n",
    "    features_1 = {}\n",
    "    \n",
    "    for i in range(len(target_col)):\n",
    "        c = target_col[i]\n",
    "        p = len(y_train[y_train==c])/len(y_train) #Initialize probability to relative probability of class\n",
    "        for feature in X.columns:\n",
    "            p *= p_x_given_class(obs_row, feature, c,aggs)\n",
    "            if c == target_col[0]:\n",
    "                features_0[feature]=p_x_given_class(obs_row, feature, c,aggs)\n",
    "            elif c==target_col[1]:\n",
    "                features_1[feature]=p_x_given_class(obs_row, feature, c,aggs)\n",
    "        c_probs.append(p)\n",
    "    \n",
    "    return target_col[np.argmax(c_probs)] , features_0, features_1\n",
    "\n",
    "def nba_stat_plot(bag,category,split_type):\n",
    "    ind_cat=sorted(bag, key=bag.get,reverse =True)\n",
    "    ind_val=sorted(bag.values(), reverse=True)\n",
    "    stats = pd.DataFrame(list(zip(ind_cat,ind_val)),columns=['Stats','Count'])\n",
    "    plt.figure(figsize=(10,5))\n",
    "    ax = sns.barplot(x=stats['Stats'],y=stats['Count'],palette =\"RdBu\")\n",
    "    sns.set_style(\"whitegrid\", {'axes.grid' : False})\n",
    "    ax.set_title(f'{category} Stat Indictors on {split_type} Data')"
   ]
  },
  {
   "cell_type": "code",
   "execution_count": 18,
   "metadata": {},
   "outputs": [
    {
     "name": "stdout",
     "output_type": "stream",
     "text": [
      "209\n"
     ]
    },
    {
     "data": {
      "text/html": [
       "<div>\n",
       "<style scoped>\n",
       "    .dataframe tbody tr th:only-of-type {\n",
       "        vertical-align: middle;\n",
       "    }\n",
       "\n",
       "    .dataframe tbody tr th {\n",
       "        vertical-align: top;\n",
       "    }\n",
       "\n",
       "    .dataframe thead th {\n",
       "        text-align: right;\n",
       "    }\n",
       "</style>\n",
       "<table border=\"1\" class=\"dataframe\">\n",
       "  <thead>\n",
       "    <tr style=\"text-align: right;\">\n",
       "      <th></th>\n",
       "      <th>Team</th>\n",
       "      <th>G</th>\n",
       "      <th>MP</th>\n",
       "      <th>FG</th>\n",
       "      <th>FGA</th>\n",
       "      <th>FG%</th>\n",
       "      <th>3P</th>\n",
       "      <th>3PA</th>\n",
       "      <th>3P%</th>\n",
       "      <th>2P</th>\n",
       "      <th>...</th>\n",
       "      <th>AST</th>\n",
       "      <th>STL</th>\n",
       "      <th>BLK</th>\n",
       "      <th>TOV</th>\n",
       "      <th>PF</th>\n",
       "      <th>PTS</th>\n",
       "      <th>Playoff</th>\n",
       "      <th>Location</th>\n",
       "      <th>Year</th>\n",
       "      <th>Conference</th>\n",
       "    </tr>\n",
       "  </thead>\n",
       "  <tbody>\n",
       "    <tr>\n",
       "      <th>0</th>\n",
       "      <td>Nuggets</td>\n",
       "      <td>82</td>\n",
       "      <td>242.7</td>\n",
       "      <td>40.7</td>\n",
       "      <td>85.2</td>\n",
       "      <td>0.478</td>\n",
       "      <td>6.4</td>\n",
       "      <td>18.5</td>\n",
       "      <td>0.343</td>\n",
       "      <td>34.4</td>\n",
       "      <td>...</td>\n",
       "      <td>24.4</td>\n",
       "      <td>9.3</td>\n",
       "      <td>6.5</td>\n",
       "      <td>15.3</td>\n",
       "      <td>20.5</td>\n",
       "      <td>106.1</td>\n",
       "      <td>True</td>\n",
       "      <td>Denver</td>\n",
       "      <td>2013</td>\n",
       "      <td>Western</td>\n",
       "    </tr>\n",
       "    <tr>\n",
       "      <th>1</th>\n",
       "      <td>Rockets</td>\n",
       "      <td>82</td>\n",
       "      <td>241.2</td>\n",
       "      <td>38.1</td>\n",
       "      <td>82.7</td>\n",
       "      <td>0.461</td>\n",
       "      <td>10.6</td>\n",
       "      <td>28.9</td>\n",
       "      <td>0.366</td>\n",
       "      <td>27.5</td>\n",
       "      <td>...</td>\n",
       "      <td>23.2</td>\n",
       "      <td>8.3</td>\n",
       "      <td>4.4</td>\n",
       "      <td>16.4</td>\n",
       "      <td>20.3</td>\n",
       "      <td>106.0</td>\n",
       "      <td>True</td>\n",
       "      <td>Houston</td>\n",
       "      <td>2013</td>\n",
       "      <td>Western</td>\n",
       "    </tr>\n",
       "    <tr>\n",
       "      <th>2</th>\n",
       "      <td>Thunder</td>\n",
       "      <td>82</td>\n",
       "      <td>241.8</td>\n",
       "      <td>38.1</td>\n",
       "      <td>79.3</td>\n",
       "      <td>0.481</td>\n",
       "      <td>7.3</td>\n",
       "      <td>19.4</td>\n",
       "      <td>0.377</td>\n",
       "      <td>30.8</td>\n",
       "      <td>...</td>\n",
       "      <td>21.4</td>\n",
       "      <td>8.3</td>\n",
       "      <td>7.6</td>\n",
       "      <td>15.3</td>\n",
       "      <td>20.2</td>\n",
       "      <td>105.7</td>\n",
       "      <td>True</td>\n",
       "      <td>Oklahoma City</td>\n",
       "      <td>2013</td>\n",
       "      <td>Western</td>\n",
       "    </tr>\n",
       "    <tr>\n",
       "      <th>3</th>\n",
       "      <td>Spurs</td>\n",
       "      <td>82</td>\n",
       "      <td>242.4</td>\n",
       "      <td>39.1</td>\n",
       "      <td>81.4</td>\n",
       "      <td>0.481</td>\n",
       "      <td>8.1</td>\n",
       "      <td>21.5</td>\n",
       "      <td>0.376</td>\n",
       "      <td>31.1</td>\n",
       "      <td>...</td>\n",
       "      <td>25.1</td>\n",
       "      <td>8.5</td>\n",
       "      <td>5.4</td>\n",
       "      <td>14.7</td>\n",
       "      <td>17.4</td>\n",
       "      <td>103.0</td>\n",
       "      <td>True</td>\n",
       "      <td>San Antonio</td>\n",
       "      <td>2013</td>\n",
       "      <td>Western</td>\n",
       "    </tr>\n",
       "    <tr>\n",
       "      <th>4</th>\n",
       "      <td>Heat</td>\n",
       "      <td>82</td>\n",
       "      <td>242.4</td>\n",
       "      <td>38.4</td>\n",
       "      <td>77.4</td>\n",
       "      <td>0.496</td>\n",
       "      <td>8.7</td>\n",
       "      <td>22.1</td>\n",
       "      <td>0.396</td>\n",
       "      <td>29.6</td>\n",
       "      <td>...</td>\n",
       "      <td>23.0</td>\n",
       "      <td>8.7</td>\n",
       "      <td>5.4</td>\n",
       "      <td>13.9</td>\n",
       "      <td>18.7</td>\n",
       "      <td>102.9</td>\n",
       "      <td>True</td>\n",
       "      <td>Miami</td>\n",
       "      <td>2013</td>\n",
       "      <td>Eastern</td>\n",
       "    </tr>\n",
       "  </tbody>\n",
       "</table>\n",
       "<p>5 rows × 28 columns</p>\n",
       "</div>"
      ],
      "text/plain": [
       "      Team   G     MP    FG   FGA    FG%    3P   3PA    3P%    2P  ...   AST  \\\n",
       "0  Nuggets  82  242.7  40.7  85.2  0.478   6.4  18.5  0.343  34.4  ...  24.4   \n",
       "1  Rockets  82  241.2  38.1  82.7  0.461  10.6  28.9  0.366  27.5  ...  23.2   \n",
       "2  Thunder  82  241.8  38.1  79.3  0.481   7.3  19.4  0.377  30.8  ...  21.4   \n",
       "3    Spurs  82  242.4  39.1  81.4  0.481   8.1  21.5  0.376  31.1  ...  25.1   \n",
       "4     Heat  82  242.4  38.4  77.4  0.496   8.7  22.1  0.396  29.6  ...  23.0   \n",
       "\n",
       "   STL  BLK   TOV    PF    PTS  Playoff       Location  Year  Conference  \n",
       "0  9.3  6.5  15.3  20.5  106.1     True         Denver  2013     Western  \n",
       "1  8.3  4.4  16.4  20.3  106.0     True        Houston  2013     Western  \n",
       "2  8.3  7.6  15.3  20.2  105.7     True  Oklahoma City  2013     Western  \n",
       "3  8.5  5.4  14.7  17.4  103.0     True    San Antonio  2013     Western  \n",
       "4  8.7  5.4  13.9  18.7  102.9     True          Miami  2013     Eastern  \n",
       "\n",
       "[5 rows x 28 columns]"
      ]
     },
     "execution_count": 18,
     "metadata": {},
     "output_type": "execute_result"
    }
   ],
   "source": [
    "df = pd.read_csv('NBA_team_stats_2013to2019.csv',index_col=0)\n",
    "print(len(df))\n",
    "df.head()"
   ]
  },
  {
   "cell_type": "code",
   "execution_count": 19,
   "metadata": {},
   "outputs": [],
   "source": [
    "X = df[[col for col in df.columns if col != 'Playoff' and col != 'Team' and \n",
    "        col != 'Location' and col != 'Conference' and col != 'G' and col != 'MP']]\n",
    "y = df.Conference\n",
    "X_train, X_test, y_train, y_test = train_test_split(X,y, random_state=8)"
   ]
  },
  {
   "cell_type": "code",
   "execution_count": 20,
   "metadata": {},
   "outputs": [
    {
     "data": {
      "text/html": [
       "<div>\n",
       "<style scoped>\n",
       "    .dataframe tbody tr th:only-of-type {\n",
       "        vertical-align: middle;\n",
       "    }\n",
       "\n",
       "    .dataframe tbody tr th {\n",
       "        vertical-align: top;\n",
       "    }\n",
       "\n",
       "    .dataframe thead tr th {\n",
       "        text-align: left;\n",
       "    }\n",
       "\n",
       "    .dataframe thead tr:last-of-type th {\n",
       "        text-align: right;\n",
       "    }\n",
       "</style>\n",
       "<table border=\"1\" class=\"dataframe\">\n",
       "  <thead>\n",
       "    <tr>\n",
       "      <th></th>\n",
       "      <th colspan=\"2\" halign=\"left\">FG</th>\n",
       "      <th colspan=\"2\" halign=\"left\">FGA</th>\n",
       "      <th colspan=\"2\" halign=\"left\">FG%</th>\n",
       "      <th colspan=\"2\" halign=\"left\">3P</th>\n",
       "      <th colspan=\"2\" halign=\"left\">3PA</th>\n",
       "      <th>...</th>\n",
       "      <th colspan=\"2\" halign=\"left\">BLK</th>\n",
       "      <th colspan=\"2\" halign=\"left\">TOV</th>\n",
       "      <th colspan=\"2\" halign=\"left\">PF</th>\n",
       "      <th colspan=\"2\" halign=\"left\">PTS</th>\n",
       "      <th colspan=\"2\" halign=\"left\">Year</th>\n",
       "    </tr>\n",
       "    <tr>\n",
       "      <th></th>\n",
       "      <th>mean</th>\n",
       "      <th>std</th>\n",
       "      <th>mean</th>\n",
       "      <th>std</th>\n",
       "      <th>mean</th>\n",
       "      <th>std</th>\n",
       "      <th>mean</th>\n",
       "      <th>std</th>\n",
       "      <th>mean</th>\n",
       "      <th>std</th>\n",
       "      <th>...</th>\n",
       "      <th>mean</th>\n",
       "      <th>std</th>\n",
       "      <th>mean</th>\n",
       "      <th>std</th>\n",
       "      <th>mean</th>\n",
       "      <th>std</th>\n",
       "      <th>mean</th>\n",
       "      <th>std</th>\n",
       "      <th>mean</th>\n",
       "      <th>std</th>\n",
       "    </tr>\n",
       "    <tr>\n",
       "      <th>Conference</th>\n",
       "      <th></th>\n",
       "      <th></th>\n",
       "      <th></th>\n",
       "      <th></th>\n",
       "      <th></th>\n",
       "      <th></th>\n",
       "      <th></th>\n",
       "      <th></th>\n",
       "      <th></th>\n",
       "      <th></th>\n",
       "      <th></th>\n",
       "      <th></th>\n",
       "      <th></th>\n",
       "      <th></th>\n",
       "      <th></th>\n",
       "      <th></th>\n",
       "      <th></th>\n",
       "      <th></th>\n",
       "      <th></th>\n",
       "      <th></th>\n",
       "      <th></th>\n",
       "    </tr>\n",
       "  </thead>\n",
       "  <tbody>\n",
       "    <tr>\n",
       "      <th>Eastern</th>\n",
       "      <td>38.197468</td>\n",
       "      <td>1.827565</td>\n",
       "      <td>84.803797</td>\n",
       "      <td>2.982661</td>\n",
       "      <td>0.450532</td>\n",
       "      <td>0.013762</td>\n",
       "      <td>8.905063</td>\n",
       "      <td>1.973601</td>\n",
       "      <td>25.094937</td>\n",
       "      <td>5.213589</td>\n",
       "      <td>...</td>\n",
       "      <td>4.756962</td>\n",
       "      <td>0.695163</td>\n",
       "      <td>14.098734</td>\n",
       "      <td>1.150306</td>\n",
       "      <td>19.970886</td>\n",
       "      <td>1.467437</td>\n",
       "      <td>102.230380</td>\n",
       "      <td>5.466433</td>\n",
       "      <td>2015.987342</td>\n",
       "      <td>1.996752</td>\n",
       "    </tr>\n",
       "    <tr>\n",
       "      <th>Western</th>\n",
       "      <td>39.022078</td>\n",
       "      <td>1.861990</td>\n",
       "      <td>85.103896</td>\n",
       "      <td>2.904010</td>\n",
       "      <td>0.458545</td>\n",
       "      <td>0.014208</td>\n",
       "      <td>9.085714</td>\n",
       "      <td>2.087287</td>\n",
       "      <td>25.322078</td>\n",
       "      <td>5.678436</td>\n",
       "      <td>...</td>\n",
       "      <td>4.971429</td>\n",
       "      <td>0.790546</td>\n",
       "      <td>14.414286</td>\n",
       "      <td>1.067426</td>\n",
       "      <td>20.497403</td>\n",
       "      <td>1.483947</td>\n",
       "      <td>105.038961</td>\n",
       "      <td>5.335511</td>\n",
       "      <td>2015.974026</td>\n",
       "      <td>1.999829</td>\n",
       "    </tr>\n",
       "  </tbody>\n",
       "</table>\n",
       "<p>2 rows × 44 columns</p>\n",
       "</div>"
      ],
      "text/plain": [
       "                   FG                  FGA                 FG%            \\\n",
       "                 mean       std       mean       std      mean       std   \n",
       "Conference                                                                 \n",
       "Eastern     38.197468  1.827565  84.803797  2.982661  0.450532  0.013762   \n",
       "Western     39.022078  1.861990  85.103896  2.904010  0.458545  0.014208   \n",
       "\n",
       "                  3P                  3PA            ...       BLK            \\\n",
       "                mean       std       mean       std  ...      mean       std   \n",
       "Conference                                           ...                       \n",
       "Eastern     8.905063  1.973601  25.094937  5.213589  ...  4.756962  0.695163   \n",
       "Western     9.085714  2.087287  25.322078  5.678436  ...  4.971429  0.790546   \n",
       "\n",
       "                  TOV                   PF                   PTS            \\\n",
       "                 mean       std       mean       std        mean       std   \n",
       "Conference                                                                   \n",
       "Eastern     14.098734  1.150306  19.970886  1.467437  102.230380  5.466433   \n",
       "Western     14.414286  1.067426  20.497403  1.483947  105.038961  5.335511   \n",
       "\n",
       "                   Year            \n",
       "                   mean       std  \n",
       "Conference                         \n",
       "Eastern     2015.987342  1.996752  \n",
       "Western     2015.974026  1.999829  \n",
       "\n",
       "[2 rows x 44 columns]"
      ]
     },
     "execution_count": 20,
     "metadata": {},
     "output_type": "execute_result"
    }
   ],
   "source": [
    "train = pd.concat([X_train, y_train], axis=1)\n",
    "aggs = train.groupby('Conference').agg(['mean', 'std'])\n",
    "aggs"
   ]
  },
  {
   "cell_type": "code",
   "execution_count": 6,
   "metadata": {},
   "outputs": [],
   "source": [
    "target_col = ['Eastern','Western']\n",
    "y_hat_train =[]\n",
    "y_hat_test=[]\n",
    "feat0_train=[]\n",
    "feat1_train=[]\n",
    "feat0_test=[]\n",
    "feat1_test=[]\n",
    "bag1_train={}\n",
    "bag2_train={}\n",
    "bag3_train={}\n",
    "bag1_test={}\n",
    "bag2_test={}\n",
    "bag3_test={}\n",
    "\n",
    "for i,idx in enumerate(range(len(X_train))):\n",
    "    a,b,c=predict_class2(X_train.iloc[idx],y_train,aggs,target_col)\n",
    "    y_hat_train.append(a)\n",
    "    feat0_train.append(b)\n",
    "    feat1_train.append(c)\n",
    "    \n",
    "    difference = {key: abs((feat0_train[i][key] - feat1_train[i].get(key,0)))/((feat0_train[i][key]+feat1_train[i].get(key,0))/2) for key in feat0_train[i].keys()}\n",
    "    x=sorted(difference, key=difference.get,reverse =True)\n",
    "    y=sorted(difference.values(), reverse=True)\n",
    "    bag1_train[x[0]]=bag1_train.get(x[0],0)+1\n",
    "    bag2_train[x[1]]=bag2_train.get(x[1],0)+1\n",
    "    bag3_train[x[2]]=bag3_train.get(x[2],0)+1\n",
    "\n",
    "for i,idx in enumerate(range(len(X_test))):\n",
    "    a,b,c=predict_class2(X_test.iloc[idx],y_train,aggs,target_col)\n",
    "    y_hat_test.append(a)\n",
    "    feat0_test.append(b)\n",
    "    feat1_test.append(c)\n",
    "    \n",
    "    difference = {key: abs((feat0_test[i][key] - feat1_test[i].get(key,0)))/((feat0_test[i][key]+feat1_test[i].get(key,0))/2) for key in feat0_test[i].keys()}\n",
    "    x=sorted(difference, key=difference.get,reverse =True)\n",
    "    y=sorted(difference.values(), reverse=True)\n",
    "    bag1_test[x[0]]=bag1_test.get(x[0],0)+1\n",
    "    bag2_test[x[1]]=bag2_test.get(x[1],0)+1\n",
    "    bag3_test[x[2]]=bag3_test.get(x[2],0)+1   \n",
    "\n",
    "#m, y_hat_train = [predict_class(X_train.iloc[idx],target_col) for idx in range(len(X_train))]\n",
    "# y_hat_test = [predict_class(X_test.iloc[idx],target_col) for idx in range(len(X_test))]"
   ]
  },
  {
   "cell_type": "code",
   "execution_count": 7,
   "metadata": {},
   "outputs": [
    {
     "data": {
      "image/png": "[encoded data removed]",
      "text/plain": [
       "<Figure size 720x360 with 1 Axes>"
      ]
     },
     "metadata": {
      "needs_background": "light"
     },
     "output_type": "display_data"
    }
   ],
   "source": [
    "nba_stat_plot(bag1_train,'Conference',\"Train\")"
   ]
  },
  {
   "cell_type": "code",
   "execution_count": 8,
   "metadata": {},
   "outputs": [
    {
     "data": {
      "image/png": "[encoded data removed]",
      "text/plain": [
       "<Figure size 720x360 with 1 Axes>"
      ]
     },
     "metadata": {},
     "output_type": "display_data"
    }
   ],
   "source": [
    "nba_stat_plot(bag1_test,'Conference','Test')"
   ]
  },
  {
   "cell_type": "code",
   "execution_count": 9,
   "metadata": {},
   "outputs": [
    {
     "name": "stdout",
     "output_type": "stream",
     "text": [
      "Correct Train Predict: 106\t Wrong Train Predict: 50\n",
      "Correct Test Predict: 34\t Wrong Test Predict: 19\n",
      "Training Accuracy: 0.6794871794871795\tTesting Accuracy: 0.6415094339622641\n"
     ]
    }
   ],
   "source": [
    "residuals_train = y_hat_train == y_train\n",
    "acc_train = residuals_train.sum()/len(residuals_train)\n",
    "\n",
    "residuals_test = y_hat_test == y_test\n",
    "acc_test = residuals_test.sum()/len(residuals_test)\n",
    "\n",
    "print(f'Correct Train Predict: {residuals_train.sum()}\\t Wrong Train Predict: {len(residuals_train)-residuals_train.sum()}')\n",
    "print(f'Correct Test Predict: {residuals_test.sum()}\\t Wrong Test Predict: {len(residuals_test)-residuals_test.sum()}')\n",
    "print('Training Accuracy: {}\\tTesting Accuracy: {}'.format(acc_train, acc_test))"
   ]
  },
  {
   "cell_type": "markdown",
   "metadata": {},
   "source": [
    "## Gaussian Naive Bayes with Sklearn"
   ]
  },
  {
   "cell_type": "code",
   "execution_count": 15,
   "metadata": {},
   "outputs": [
    {
     "data": {
      "text/plain": [
       "GaussianNB(priors=None, var_smoothing=1e-09)"
      ]
     },
     "execution_count": 15,
     "metadata": {},
     "output_type": "execute_result"
    }
   ],
   "source": [
    "model = GaussianNB()\n",
    "\n",
    "model.fit(X_train, y_train)"
   ]
  },
  {
   "cell_type": "code",
   "execution_count": 11,
   "metadata": {},
   "outputs": [],
   "source": [
    "y_train_predict=model.predict(X_train)\n",
    "y_test_predict2=model.predict(X_test)"
   ]
  },
  {
   "cell_type": "code",
   "execution_count": 23,
   "metadata": {},
   "outputs": [
    {
     "name": "stdout",
     "output_type": "stream",
     "text": [
      "Sklearn Train Accuracy: 0.6794871794871795\n",
      "Sklearn Test Accuracy: 0.6415094339622641\n"
     ]
    }
   ],
   "source": [
    "print(\"Sklearn Train Accuracy:\",metrics.accuracy_score(y_train, y_train_predict))\n",
    "print(\"Sklearn Test Accuracy:\",metrics.accuracy_score(y_test, y_test_predict2))"
   ]
  },
  {
   "cell_type": "code",
   "execution_count": 30,
   "metadata": {},
   "outputs": [
    {
     "name": "stdout",
     "output_type": "stream",
     "text": [
      "Sklearn Train ROC score:  0.6784481341443367\n",
      "Sklearn Test ROC score:  0.6417378917378918\n"
     ]
    }
   ],
   "source": [
    "print('Sklearn Train ROC score: ',metrics.roc_auc_score(y_train == \"Western\", y_train_predict == \"Western\"))\n",
    "print('Sklearn Test ROC score: ',metrics.roc_auc_score(y_test=='Western', y_test_predict2=='Western'))"
   ]
  },
  {
   "cell_type": "code",
   "execution_count": null,
   "metadata": {},
   "outputs": [],
   "source": []
  }
 ],
 "metadata": {
  "kernelspec": {
   "display_name": "Python 3",
   "language": "python",
   "name": "python3"
  },
  "language_info": {
   "codemirror_mode": {
    "name": "ipython",
    "version": 3
   },
   "file_extension": ".py",
   "mimetype": "text/x-python",
   "name": "python",
   "nbconvert_exporter": "python",
   "pygments_lexer": "ipython3",
   "version": "3.7.3"
  }
 },
 "nbformat": 4,
 "nbformat_minor": 4
}
