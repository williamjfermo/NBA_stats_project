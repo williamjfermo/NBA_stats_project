{
 "cells": [
  {
   "cell_type": "code",
   "execution_count": 75,
   "metadata": {},
   "outputs": [],
   "source": [
    "import numpy as np\n",
    "import pandas as pd\n",
    "from scipy import stats\n",
    "\n",
    "from sklearn.model_selection import train_test_split\n",
    "from sklearn.naive_bayes import GaussianNB\n",
    "from sklearn import metrics\n",
    "\n",
    "import matplotlib.pyplot as plt\n",
    "import seaborn as sns"
   ]
  },
  {
   "cell_type": "markdown",
   "metadata": {},
   "source": [
    "# Conference Predictor\n",
    "## Custom Naive Bayes Functions"
   ]
  },
  {
   "cell_type": "code",
   "execution_count": 76,
   "metadata": {},
   "outputs": [],
   "source": [
    "def p_x_given_class(obs_row, feature, class_,aggs):\n",
    "    mu = aggs[feature]['mean'][class_]\n",
    "    std = aggs[feature]['std'][class_]\n",
    "\n",
    "    obs = obs_row[feature] #observation\n",
    "    \n",
    "    p_x_given_y = stats.norm.pdf(obs, loc=mu, scale=std)\n",
    "    return p_x_given_y\n",
    "\n",
    "def predict_class(obs_row,y_train,aggs,target_col=[0,1]):\n",
    "    c_probs = []\n",
    "    features_0 = {}\n",
    "    features_1 = {}\n",
    "    \n",
    "    for i in range(len(target_col)):\n",
    "        c = target_col[i]\n",
    "        p = len(y_train[y_train==c])/len(y_train) #Initialize probability to relative probability of class\n",
    "        for feature in X.columns:\n",
    "            p *= p_x_given_class(obs_row, feature, c,aggs)\n",
    "        c_probs.append(p)\n",
    "    \n",
    "    return target_col[np.argmax(c_probs)]\n",
    "\n",
    "def predict_class2(obs_row,y_train,aggs,target_col=[0,1]):\n",
    "    c_probs = []\n",
    "    features_0 = {}\n",
    "    features_1 = {}\n",
    "    \n",
    "    for i in range(len(target_col)):\n",
    "        c = target_col[i]\n",
    "        p = len(y_train[y_train==c])/len(y_train) #Initialize probability to relative probability of class\n",
    "        for feature in X.columns:\n",
    "            p *= p_x_given_class(obs_row, feature, c,aggs)\n",
    "            if c == target_col[0]:\n",
    "                features_0[feature]=p_x_given_class(obs_row, feature, c,aggs)\n",
    "            elif c==target_col[1]:\n",
    "                features_1[feature]=p_x_given_class(obs_row, feature, c,aggs)\n",
    "        c_probs.append(p)\n",
    "    \n",
    "    return target_col[np.argmax(c_probs)] , features_0, features_1\n",
    "\n",
    "def nba_stat_plot(bag,category,split_type):\n",
    "    ind_cat=sorted(bag, key=bag.get,reverse =True)\n",
    "    ind_val=sorted(bag.values(), reverse=True)\n",
    "    stats = pd.DataFrame(list(zip(ind_cat,ind_val)),columns=['Stats','Count'])\n",
    "    plt.figure(figsize=(10,5))\n",
    "    ax = sns.barplot(x=stats['Stats'],y=stats['Count'],palette =\"RdBu\")\n",
    "    ax.set_title(f'{category} Stat Indictors on {split_type} Data')"
   ]
  },
  {
   "cell_type": "code",
   "execution_count": 77,
   "metadata": {},
   "outputs": [
    {
     "name": "stdout",
     "output_type": "stream",
     "text": [
      "1015\n"
     ]
    },
    {
     "data": {
      "text/html": [
       "<div>\n",
       "<style scoped>\n",
       "    .dataframe tbody tr th:only-of-type {\n",
       "        vertical-align: middle;\n",
       "    }\n",
       "\n",
       "    .dataframe tbody tr th {\n",
       "        vertical-align: top;\n",
       "    }\n",
       "\n",
       "    .dataframe thead th {\n",
       "        text-align: right;\n",
       "    }\n",
       "</style>\n",
       "<table border=\"1\" class=\"dataframe\">\n",
       "  <thead>\n",
       "    <tr style=\"text-align: right;\">\n",
       "      <th></th>\n",
       "      <th>Team</th>\n",
       "      <th>G</th>\n",
       "      <th>MP</th>\n",
       "      <th>FG</th>\n",
       "      <th>FGA</th>\n",
       "      <th>FG%</th>\n",
       "      <th>3P</th>\n",
       "      <th>3PA</th>\n",
       "      <th>3P%</th>\n",
       "      <th>2P</th>\n",
       "      <th>...</th>\n",
       "      <th>AST</th>\n",
       "      <th>STL</th>\n",
       "      <th>BLK</th>\n",
       "      <th>TOV</th>\n",
       "      <th>PF</th>\n",
       "      <th>PTS</th>\n",
       "      <th>Playoff</th>\n",
       "      <th>Location</th>\n",
       "      <th>Year</th>\n",
       "      <th>Conference</th>\n",
       "    </tr>\n",
       "  </thead>\n",
       "  <tbody>\n",
       "    <tr>\n",
       "      <th>0</th>\n",
       "      <td>Spurs</td>\n",
       "      <td>82</td>\n",
       "      <td>240.9</td>\n",
       "      <td>47.0</td>\n",
       "      <td>94.4</td>\n",
       "      <td>0.498</td>\n",
       "      <td>0.6</td>\n",
       "      <td>2.5</td>\n",
       "      <td>0.252</td>\n",
       "      <td>46.4</td>\n",
       "      <td>...</td>\n",
       "      <td>28.4</td>\n",
       "      <td>9.4</td>\n",
       "      <td>4.1</td>\n",
       "      <td>19.4</td>\n",
       "      <td>25.6</td>\n",
       "      <td>119.4</td>\n",
       "      <td>True</td>\n",
       "      <td>San Antonio</td>\n",
       "      <td>1980</td>\n",
       "      <td>Western</td>\n",
       "    </tr>\n",
       "    <tr>\n",
       "      <th>1</th>\n",
       "      <td>Lakers</td>\n",
       "      <td>82</td>\n",
       "      <td>242.4</td>\n",
       "      <td>47.5</td>\n",
       "      <td>89.9</td>\n",
       "      <td>0.529</td>\n",
       "      <td>0.2</td>\n",
       "      <td>1.2</td>\n",
       "      <td>0.200</td>\n",
       "      <td>47.3</td>\n",
       "      <td>...</td>\n",
       "      <td>29.4</td>\n",
       "      <td>9.4</td>\n",
       "      <td>6.7</td>\n",
       "      <td>20.0</td>\n",
       "      <td>21.8</td>\n",
       "      <td>115.1</td>\n",
       "      <td>True</td>\n",
       "      <td>Los Angeles</td>\n",
       "      <td>1980</td>\n",
       "      <td>Western</td>\n",
       "    </tr>\n",
       "    <tr>\n",
       "      <th>2</th>\n",
       "      <td>Cavaliers</td>\n",
       "      <td>82</td>\n",
       "      <td>243.0</td>\n",
       "      <td>46.5</td>\n",
       "      <td>98.1</td>\n",
       "      <td>0.474</td>\n",
       "      <td>0.4</td>\n",
       "      <td>2.3</td>\n",
       "      <td>0.193</td>\n",
       "      <td>46.0</td>\n",
       "      <td>...</td>\n",
       "      <td>25.7</td>\n",
       "      <td>9.3</td>\n",
       "      <td>4.2</td>\n",
       "      <td>16.7</td>\n",
       "      <td>23.6</td>\n",
       "      <td>114.1</td>\n",
       "      <td>False</td>\n",
       "      <td>Cleveland</td>\n",
       "      <td>1980</td>\n",
       "      <td>Eastern</td>\n",
       "    </tr>\n",
       "    <tr>\n",
       "      <th>3</th>\n",
       "      <td>Knicks</td>\n",
       "      <td>82</td>\n",
       "      <td>241.2</td>\n",
       "      <td>46.4</td>\n",
       "      <td>93.6</td>\n",
       "      <td>0.496</td>\n",
       "      <td>0.5</td>\n",
       "      <td>2.3</td>\n",
       "      <td>0.220</td>\n",
       "      <td>45.9</td>\n",
       "      <td>...</td>\n",
       "      <td>27.6</td>\n",
       "      <td>10.7</td>\n",
       "      <td>5.6</td>\n",
       "      <td>19.7</td>\n",
       "      <td>26.4</td>\n",
       "      <td>114.0</td>\n",
       "      <td>False</td>\n",
       "      <td>New York</td>\n",
       "      <td>1980</td>\n",
       "      <td>Eastern</td>\n",
       "    </tr>\n",
       "    <tr>\n",
       "      <th>4</th>\n",
       "      <td>Celtics</td>\n",
       "      <td>82</td>\n",
       "      <td>242.4</td>\n",
       "      <td>44.1</td>\n",
       "      <td>90.1</td>\n",
       "      <td>0.490</td>\n",
       "      <td>2.0</td>\n",
       "      <td>5.1</td>\n",
       "      <td>0.384</td>\n",
       "      <td>42.1</td>\n",
       "      <td>...</td>\n",
       "      <td>26.8</td>\n",
       "      <td>9.9</td>\n",
       "      <td>3.8</td>\n",
       "      <td>18.8</td>\n",
       "      <td>24.1</td>\n",
       "      <td>113.5</td>\n",
       "      <td>True</td>\n",
       "      <td>Boston</td>\n",
       "      <td>1980</td>\n",
       "      <td>Eastern</td>\n",
       "    </tr>\n",
       "  </tbody>\n",
       "</table>\n",
       "<p>5 rows × 28 columns</p>\n",
       "</div>"
      ],
      "text/plain": [
       "        Team   G     MP    FG   FGA    FG%   3P  3PA    3P%    2P  ...   AST  \\\n",
       "0      Spurs  82  240.9  47.0  94.4  0.498  0.6  2.5  0.252  46.4  ...  28.4   \n",
       "1     Lakers  82  242.4  47.5  89.9  0.529  0.2  1.2  0.200  47.3  ...  29.4   \n",
       "2  Cavaliers  82  243.0  46.5  98.1  0.474  0.4  2.3  0.193  46.0  ...  25.7   \n",
       "3     Knicks  82  241.2  46.4  93.6  0.496  0.5  2.3  0.220  45.9  ...  27.6   \n",
       "4    Celtics  82  242.4  44.1  90.1  0.490  2.0  5.1  0.384  42.1  ...  26.8   \n",
       "\n",
       "    STL  BLK   TOV    PF    PTS  Playoff     Location  Year  Conference  \n",
       "0   9.4  4.1  19.4  25.6  119.4     True  San Antonio  1980     Western  \n",
       "1   9.4  6.7  20.0  21.8  115.1     True  Los Angeles  1980     Western  \n",
       "2   9.3  4.2  16.7  23.6  114.1    False    Cleveland  1980     Eastern  \n",
       "3  10.7  5.6  19.7  26.4  114.0    False     New York  1980     Eastern  \n",
       "4   9.9  3.8  18.8  24.1  113.5     True       Boston  1980     Eastern  \n",
       "\n",
       "[5 rows x 28 columns]"
      ]
     },
     "execution_count": 77,
     "metadata": {},
     "output_type": "execute_result"
    }
   ],
   "source": [
    "df = pd.read_csv('NBA_team_stats_1980to2019.csv',index_col=0)\n",
    "print(len(df))\n",
    "df.head()"
   ]
  },
  {
   "cell_type": "code",
   "execution_count": 78,
   "metadata": {},
   "outputs": [],
   "source": [
    "X = df[[col for col in df.columns if col != 'Playoff' and col != 'Team' and \n",
    "        col != 'Location' and col != 'Conference' and col != 'G' and col != 'MP']]\n",
    "y = df.Conference\n",
    "X_train, X_test, y_train, y_test = train_test_split(X,y, random_state=8)"
   ]
  },
  {
   "cell_type": "code",
   "execution_count": 79,
   "metadata": {},
   "outputs": [
    {
     "data": {
      "text/html": [
       "<div>\n",
       "<style scoped>\n",
       "    .dataframe tbody tr th:only-of-type {\n",
       "        vertical-align: middle;\n",
       "    }\n",
       "\n",
       "    .dataframe tbody tr th {\n",
       "        vertical-align: top;\n",
       "    }\n",
       "\n",
       "    .dataframe thead tr th {\n",
       "        text-align: left;\n",
       "    }\n",
       "\n",
       "    .dataframe thead tr:last-of-type th {\n",
       "        text-align: right;\n",
       "    }\n",
       "</style>\n",
       "<table border=\"1\" class=\"dataframe\">\n",
       "  <thead>\n",
       "    <tr>\n",
       "      <th></th>\n",
       "      <th colspan=\"2\" halign=\"left\">FG</th>\n",
       "      <th colspan=\"2\" halign=\"left\">FGA</th>\n",
       "      <th colspan=\"2\" halign=\"left\">FG%</th>\n",
       "      <th colspan=\"2\" halign=\"left\">3P</th>\n",
       "      <th colspan=\"2\" halign=\"left\">3PA</th>\n",
       "      <th>...</th>\n",
       "      <th colspan=\"2\" halign=\"left\">BLK</th>\n",
       "      <th colspan=\"2\" halign=\"left\">TOV</th>\n",
       "      <th colspan=\"2\" halign=\"left\">PF</th>\n",
       "      <th colspan=\"2\" halign=\"left\">PTS</th>\n",
       "      <th colspan=\"2\" halign=\"left\">Year</th>\n",
       "    </tr>\n",
       "    <tr>\n",
       "      <th></th>\n",
       "      <th>mean</th>\n",
       "      <th>std</th>\n",
       "      <th>mean</th>\n",
       "      <th>std</th>\n",
       "      <th>mean</th>\n",
       "      <th>std</th>\n",
       "      <th>mean</th>\n",
       "      <th>std</th>\n",
       "      <th>mean</th>\n",
       "      <th>std</th>\n",
       "      <th>...</th>\n",
       "      <th>mean</th>\n",
       "      <th>std</th>\n",
       "      <th>mean</th>\n",
       "      <th>std</th>\n",
       "      <th>mean</th>\n",
       "      <th>std</th>\n",
       "      <th>mean</th>\n",
       "      <th>std</th>\n",
       "      <th>mean</th>\n",
       "      <th>std</th>\n",
       "    </tr>\n",
       "    <tr>\n",
       "      <th>Conference</th>\n",
       "      <th></th>\n",
       "      <th></th>\n",
       "      <th></th>\n",
       "      <th></th>\n",
       "      <th></th>\n",
       "      <th></th>\n",
       "      <th></th>\n",
       "      <th></th>\n",
       "      <th></th>\n",
       "      <th></th>\n",
       "      <th></th>\n",
       "      <th></th>\n",
       "      <th></th>\n",
       "      <th></th>\n",
       "      <th></th>\n",
       "      <th></th>\n",
       "      <th></th>\n",
       "      <th></th>\n",
       "      <th></th>\n",
       "      <th></th>\n",
       "      <th></th>\n",
       "    </tr>\n",
       "  </thead>\n",
       "  <tbody>\n",
       "    <tr>\n",
       "      <th>Eastern</th>\n",
       "      <td>38.343434</td>\n",
       "      <td>3.108947</td>\n",
       "      <td>83.304545</td>\n",
       "      <td>4.409028</td>\n",
       "      <td>0.459894</td>\n",
       "      <td>0.020653</td>\n",
       "      <td>4.924747</td>\n",
       "      <td>3.012513</td>\n",
       "      <td>14.029040</td>\n",
       "      <td>8.119085</td>\n",
       "      <td>...</td>\n",
       "      <td>4.936364</td>\n",
       "      <td>0.971253</td>\n",
       "      <td>15.446212</td>\n",
       "      <td>1.866795</td>\n",
       "      <td>22.222727</td>\n",
       "      <td>2.359025</td>\n",
       "      <td>100.832323</td>\n",
       "      <td>6.406505</td>\n",
       "      <td>2000.699495</td>\n",
       "      <td>11.326595</td>\n",
       "    </tr>\n",
       "    <tr>\n",
       "      <th>Western</th>\n",
       "      <td>39.197808</td>\n",
       "      <td>3.324277</td>\n",
       "      <td>84.411233</td>\n",
       "      <td>4.913249</td>\n",
       "      <td>0.464016</td>\n",
       "      <td>0.021382</td>\n",
       "      <td>5.193699</td>\n",
       "      <td>3.182358</td>\n",
       "      <td>14.792055</td>\n",
       "      <td>8.514798</td>\n",
       "      <td>...</td>\n",
       "      <td>5.210959</td>\n",
       "      <td>0.937755</td>\n",
       "      <td>15.514247</td>\n",
       "      <td>1.762604</td>\n",
       "      <td>22.206849</td>\n",
       "      <td>2.238446</td>\n",
       "      <td>103.261096</td>\n",
       "      <td>7.256658</td>\n",
       "      <td>2001.306849</td>\n",
       "      <td>11.349061</td>\n",
       "    </tr>\n",
       "  </tbody>\n",
       "</table>\n",
       "<p>2 rows × 44 columns</p>\n",
       "</div>"
      ],
      "text/plain": [
       "                   FG                  FGA                 FG%            \\\n",
       "                 mean       std       mean       std      mean       std   \n",
       "Conference                                                                 \n",
       "Eastern     38.343434  3.108947  83.304545  4.409028  0.459894  0.020653   \n",
       "Western     39.197808  3.324277  84.411233  4.913249  0.464016  0.021382   \n",
       "\n",
       "                  3P                  3PA            ...       BLK            \\\n",
       "                mean       std       mean       std  ...      mean       std   \n",
       "Conference                                           ...                       \n",
       "Eastern     4.924747  3.012513  14.029040  8.119085  ...  4.936364  0.971253   \n",
       "Western     5.193699  3.182358  14.792055  8.514798  ...  5.210959  0.937755   \n",
       "\n",
       "                  TOV                   PF                   PTS            \\\n",
       "                 mean       std       mean       std        mean       std   \n",
       "Conference                                                                   \n",
       "Eastern     15.446212  1.866795  22.222727  2.359025  100.832323  6.406505   \n",
       "Western     15.514247  1.762604  22.206849  2.238446  103.261096  7.256658   \n",
       "\n",
       "                   Year             \n",
       "                   mean        std  \n",
       "Conference                          \n",
       "Eastern     2000.699495  11.326595  \n",
       "Western     2001.306849  11.349061  \n",
       "\n",
       "[2 rows x 44 columns]"
      ]
     },
     "execution_count": 79,
     "metadata": {},
     "output_type": "execute_result"
    }
   ],
   "source": [
    "train = pd.concat([X_train, y_train], axis=1)\n",
    "aggs = train.groupby('Conference').agg(['mean', 'std'])\n",
    "aggs"
   ]
  },
  {
   "cell_type": "code",
   "execution_count": 80,
   "metadata": {},
   "outputs": [],
   "source": [
    "target_col = ['Eastern','Western']\n",
    "y_hat_train =[]\n",
    "y_hat_test=[]\n",
    "feat0_train=[]\n",
    "feat1_train=[]\n",
    "feat0_test=[]\n",
    "feat1_test=[]\n",
    "bag1_train={}\n",
    "bag2_train={}\n",
    "bag3_train={}\n",
    "bag1_test={}\n",
    "bag2_test={}\n",
    "bag3_test={}\n",
    "\n",
    "for i,idx in enumerate(range(len(X_train))):\n",
    "    a,b,c=predict_class2(X_train.iloc[idx],y_train,aggs,target_col)\n",
    "    y_hat_train.append(a)\n",
    "    feat0_train.append(b)\n",
    "    feat1_train.append(c)\n",
    "    \n",
    "    difference = {key: abs((feat0_train[i][key] - feat1_train[i].get(key,0)))/((feat0_train[i][key]+feat1_train[i].get(key,0))/2) for key in feat0_train[i].keys()}\n",
    "    x=sorted(difference, key=difference.get,reverse =True)\n",
    "    y=sorted(difference.values(), reverse=True)\n",
    "    bag1_train[x[0]]=bag1_train.get(x[0],0)+1\n",
    "    bag2_train[x[1]]=bag2_train.get(x[1],0)+1\n",
    "    bag3_train[x[2]]=bag3_train.get(x[2],0)+1\n",
    "\n",
    "for i,idx in enumerate(range(len(X_test))):\n",
    "    a,b,c=predict_class2(X_test.iloc[idx],y_train,aggs,target_col)\n",
    "    y_hat_test.append(a)\n",
    "    feat0_test.append(b)\n",
    "    feat1_test.append(c)\n",
    "    \n",
    "    difference = {key: abs((feat0_test[i][key] - feat1_test[i].get(key,0)))/((feat0_test[i][key]+feat1_test[i].get(key,0))/2) for key in feat0_test[i].keys()}\n",
    "    x=sorted(difference, key=difference.get,reverse =True)\n",
    "    y=sorted(difference.values(), reverse=True)\n",
    "    bag1_test[x[0]]=bag1_test.get(x[0],0)+1\n",
    "    bag2_test[x[1]]=bag2_test.get(x[1],0)+1\n",
    "    bag3_test[x[2]]=bag3_test.get(x[2],0)+1   \n",
    "\n",
    "#m, y_hat_train = [predict_class(X_train.iloc[idx],target_col) for idx in range(len(X_train))]\n",
    "# y_hat_test = [predict_class(X_test.iloc[idx],target_col) for idx in range(len(X_test))]"
   ]
  },
  {
   "cell_type": "code",
   "execution_count": 81,
   "metadata": {},
   "outputs": [
    {
     "data": {
      "image/png": "[encoded data removed]",
      "text/plain": [
       "<Figure size 720x360 with 1 Axes>"
      ]
     },
     "metadata": {
      "needs_background": "light"
     },
     "output_type": "display_data"
    }
   ],
   "source": [
    "nba_stat_plot(bag1_train,'Conference',\"Train\")"
   ]
  },
  {
   "cell_type": "code",
   "execution_count": 82,
   "metadata": {},
   "outputs": [
    {
     "data": {
      "image/png": "[encoded data removed]",
      "text/plain": [
       "<Figure size 720x360 with 1 Axes>"
      ]
     },
     "metadata": {
      "needs_background": "light"
     },
     "output_type": "display_data"
    }
   ],
   "source": [
    "nba_stat_plot(bag1_test,'Conference','Test')"
   ]
  },
  {
   "cell_type": "code",
   "execution_count": 83,
   "metadata": {},
   "outputs": [
    {
     "name": "stdout",
     "output_type": "stream",
     "text": [
      "Correct Train Predict: 439\t Wrong Train Predict: 322\n",
      "Correct Test Predict: 145\t Wrong Test Predict: 109\n",
      "Training Accuracy: 0.5768725361366623\tTesting Accuracy: 0.5708661417322834\n"
     ]
    }
   ],
   "source": [
    "residuals_train = y_hat_train == y_train\n",
    "acc_train = residuals_train.sum()/len(residuals_train)\n",
    "\n",
    "residuals_test = y_hat_test == y_test\n",
    "acc_test = residuals_test.sum()/len(residuals_test)\n",
    "\n",
    "print(f'Correct Train Predict: {residuals_train.sum()}\\t Wrong Train Predict: {len(residuals_train)-residuals_train.sum()}')\n",
    "print(f'Correct Test Predict: {residuals_test.sum()}\\t Wrong Test Predict: {len(residuals_test)-residuals_test.sum()}')\n",
    "print('Training Accuracy: {}\\tTesting Accuracy: {}'.format(acc_train, acc_test))"
   ]
  },
  {
   "cell_type": "markdown",
   "metadata": {},
   "source": [
    "## Gaussian Naive Bayes with Sklearn"
   ]
  },
  {
   "cell_type": "code",
   "execution_count": 84,
   "metadata": {},
   "outputs": [
    {
     "data": {
      "text/plain": [
       "GaussianNB(priors=None, var_smoothing=1e-09)"
      ]
     },
     "execution_count": 84,
     "metadata": {},
     "output_type": "execute_result"
    }
   ],
   "source": [
    "model = GaussianNB()\n",
    "model.fit(X_train, y_train)"
   ]
  },
  {
   "cell_type": "code",
   "execution_count": 85,
   "metadata": {},
   "outputs": [],
   "source": [
    "y_train_predict=model.predict(X_train)\n",
    "y_test_predict2=model.predict(X_test)"
   ]
  },
  {
   "cell_type": "code",
   "execution_count": 86,
   "metadata": {},
   "outputs": [
    {
     "name": "stdout",
     "output_type": "stream",
     "text": [
      "Sklearn Train Accuracy: 0.5768725361366623\n",
      "Sklearn Test Accuracy: 0.5708661417322834\n"
     ]
    }
   ],
   "source": [
    "print(\"Sklearn Train Accuracy:\",metrics.accuracy_score(y_train, y_train_predict))\n",
    "print(\"Sklearn Test Accuracy:\",metrics.accuracy_score(y_test, y_test_predict2))"
   ]
  },
  {
   "cell_type": "code",
   "execution_count": 87,
   "metadata": {},
   "outputs": [
    {
     "name": "stdout",
     "output_type": "stream",
     "text": [
      "Sklearn Train ROC score:  0.5725231769752318\n",
      "Sklearn Test ROC score:  0.5724341085271317\n"
     ]
    }
   ],
   "source": [
    "print('Sklearn Train ROC score: ',metrics.roc_auc_score(y_train=='Western', y_train_predict=='Western'))\n",
    "print('Sklearn Test ROC score: ',metrics.roc_auc_score(y_test=='Western', y_test_predict2=='Western'))"
   ]
  },
  {
   "cell_type": "code",
   "execution_count": null,
   "metadata": {},
   "outputs": [],
   "source": []
  }
 ],
 "metadata": {
  "kernelspec": {
   "display_name": "Python 3",
   "language": "python",
   "name": "python3"
  },
  "language_info": {
   "codemirror_mode": {
    "name": "ipython",
    "version": 3
   },
   "file_extension": ".py",
   "mimetype": "text/x-python",
   "name": "python",
   "nbconvert_exporter": "python",
   "pygments_lexer": "ipython3",
   "version": "3.7.3"
  }
 },
 "nbformat": 4,
 "nbformat_minor": 4
}
