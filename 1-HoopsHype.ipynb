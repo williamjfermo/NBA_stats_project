{
 "cells": [
  {
   "cell_type": "code",
   "execution_count": 1,
   "metadata": {},
   "outputs": [],
   "source": [
    "from requests import get\n",
    "from bs4 import BeautifulSoup as soup\n",
    "import pandas as pd\n",
    "import warnings; warnings.simplefilter('ignore')"
   ]
  },
  {
   "cell_type": "code",
   "execution_count": 2,
   "metadata": {},
   "outputs": [],
   "source": [
    "url ='https://hoopshype.com/salaries/2018-2019/'"
   ]
  },
  {
   "cell_type": "code",
   "execution_count": 3,
   "metadata": {},
   "outputs": [],
   "source": [
    "def hoops_hype(url):\n",
    "    #function to parse each row\n",
    "    def parse_row(row):\n",
    "        return [x.text.strip() for x in row.findAll('td')]\n",
    "    \n",
    "    #Getting url and using Beautiful Soup to Parse it\n",
    "    response = get(url) #get the url\n",
    "    x = soup(response.content, 'html.parser') #Parse the url\n",
    "    tables = x.find_all('table') #Find table\n",
    "    rows = tables[0].find_all('tr') #Find rows in first table\n",
    "    list_parsed_rows =[parse_row(row) for row in rows[0:]] #Parse out rows\n",
    "    \n",
    "    \n",
    "    #Creating dataframe and modifying\n",
    "    df = pd.DataFrame(list_parsed_rows[1:]) #make Dataframe\n",
    "    df.columns = [\"Rk\",\"Team\",\"Payroll\",\"Adj_Payroll\"]\n",
    "    df['Year'] = list_parsed_rows[0][2]\n",
    "    df.Payroll = [x.strip('$') for x in df.Payroll]\n",
    "    df.Payroll = [x.replace(',','') for x in df.Payroll]\n",
    "    df.Adj_Payroll = [x.strip('$') for x in df.Adj_Payroll]\n",
    "    df.Adj_Payroll = [x.replace(',','') for x in df.Adj_Payroll]\n",
    "    \n",
    "    #Setting datatypes\n",
    "    float_cols = ['Payroll','Adj_Payroll']\n",
    "    int_cols = []\n",
    "    \n",
    "    df[float_cols]=df[float_cols].astype(float)\n",
    "    df[int_cols]=df[int_cols].astype(int)\n",
    "    \n",
    "    # Creating Conference Labels\n",
    "    Eastern =[\n",
    "    'Atlanta','Boston','Chicago','Cleveland','Detroit','Indiana','Miami','Milwaukee',\n",
    "    'Brooklyn','New York','Orlando','Philadelphia','Washington' ,'Toronto','Charlotte']\n",
    "    Western = [\n",
    "    'Houston','LA Clippers','LA Lakers','Minnesota' ,'Phoenix','Portland','Sacramento','San Antonio',\n",
    "    'Oklahoma City','Utah' ,'Memphis' ,'New Orleans','Dallas' ,'Denver' ,'Golden State']\n",
    "    \n",
    "    East = df[df['Team'].isin(Eastern)]\n",
    "    East['Conference'] = 'Eastern'\n",
    "    West = df[df['Team'].isin(Western)]\n",
    "    West['Conference'] = 'Western'\n",
    "    \n",
    "    df=pd.concat([West,East])\n",
    "    df.sort_index(inplace=True)\n",
    " \n",
    "    return df \n",
    "    \n",
    "    "
   ]
  },
  {
   "cell_type": "code",
   "execution_count": 4,
   "metadata": {},
   "outputs": [
    {
     "data": {
      "text/html": [
       "<div>\n",
       "<style scoped>\n",
       "    .dataframe tbody tr th:only-of-type {\n",
       "        vertical-align: middle;\n",
       "    }\n",
       "\n",
       "    .dataframe tbody tr th {\n",
       "        vertical-align: top;\n",
       "    }\n",
       "\n",
       "    .dataframe thead th {\n",
       "        text-align: right;\n",
       "    }\n",
       "</style>\n",
       "<table border=\"1\" class=\"dataframe\">\n",
       "  <thead>\n",
       "    <tr style=\"text-align: right;\">\n",
       "      <th></th>\n",
       "      <th>Rk</th>\n",
       "      <th>Team</th>\n",
       "      <th>Payroll</th>\n",
       "      <th>Adj_Payroll</th>\n",
       "      <th>Year</th>\n",
       "      <th>Conference</th>\n",
       "    </tr>\n",
       "  </thead>\n",
       "  <tbody>\n",
       "    <tr>\n",
       "      <th>0</th>\n",
       "      <td>1.</td>\n",
       "      <td>Miami</td>\n",
       "      <td>153171497.0</td>\n",
       "      <td>155696495.0</td>\n",
       "      <td>2018/19</td>\n",
       "      <td>Eastern</td>\n",
       "    </tr>\n",
       "    <tr>\n",
       "      <th>1</th>\n",
       "      <td>2.</td>\n",
       "      <td>Golden State</td>\n",
       "      <td>146291276.0</td>\n",
       "      <td>148702858.0</td>\n",
       "      <td>2018/19</td>\n",
       "      <td>Western</td>\n",
       "    </tr>\n",
       "    <tr>\n",
       "      <th>2</th>\n",
       "      <td>3.</td>\n",
       "      <td>Oklahoma City</td>\n",
       "      <td>144916427.0</td>\n",
       "      <td>147305340.0</td>\n",
       "      <td>2018/19</td>\n",
       "      <td>Western</td>\n",
       "    </tr>\n",
       "    <tr>\n",
       "      <th>3</th>\n",
       "      <td>4.</td>\n",
       "      <td>Toronto</td>\n",
       "      <td>137793831.0</td>\n",
       "      <td>140065330.0</td>\n",
       "      <td>2018/19</td>\n",
       "      <td>Eastern</td>\n",
       "    </tr>\n",
       "    <tr>\n",
       "      <th>4</th>\n",
       "      <td>5.</td>\n",
       "      <td>Milwaukee</td>\n",
       "      <td>130988604.0</td>\n",
       "      <td>133147922.0</td>\n",
       "      <td>2018/19</td>\n",
       "      <td>Eastern</td>\n",
       "    </tr>\n",
       "  </tbody>\n",
       "</table>\n",
       "</div>"
      ],
      "text/plain": [
       "   Rk           Team      Payroll  Adj_Payroll     Year Conference\n",
       "0  1.          Miami  153171497.0  155696495.0  2018/19    Eastern\n",
       "1  2.   Golden State  146291276.0  148702858.0  2018/19    Western\n",
       "2  3.  Oklahoma City  144916427.0  147305340.0  2018/19    Western\n",
       "3  4.        Toronto  137793831.0  140065330.0  2018/19    Eastern\n",
       "4  5.      Milwaukee  130988604.0  133147922.0  2018/19    Eastern"
      ]
     },
     "execution_count": 4,
     "metadata": {},
     "output_type": "execute_result"
    }
   ],
   "source": [
    "x = hoops_hype('https://hoopshype.com/salaries/2018-2019/')\n",
    "x.head()"
   ]
  },
  {
   "cell_type": "markdown",
   "metadata": {},
   "source": [
    "### Looking at Syntax of the Hoops Hype  \n",
    "  \n",
    "https://hoopshype.com/salaries/  \n",
    "https://hoopshype.com/salaries/2018-2019/  \n",
    "https://hoopshype.com/salaries/2017-2018/  \n",
    "\n",
    "\n"
   ]
  },
  {
   "cell_type": "code",
   "execution_count": 5,
   "metadata": {},
   "outputs": [],
   "source": [
    "def hoops_hype_year(start_year, end_year):\n",
    "    for i in range(0,end_year-start_year):\n",
    "        if i == 0:\n",
    "            a = start_year+i\n",
    "            b = start_year+i+1\n",
    "            url=f'https://hoopshype.com/salaries/{a}-{b}/'\n",
    "            df = hoops_hype(url)\n",
    "            print(start_year)\n",
    "        elif i > 0:\n",
    "            a = start_year+i\n",
    "            b= start_year+i+1\n",
    "            url=f'https://hoopshype.com/salaries/{a}-{b}/'\n",
    "            df2 = hoops_hype(url)\n",
    "            df = df.append(df2)\n",
    "            print(start_year+i)\n",
    "    return df\n",
    "  "
   ]
  },
  {
   "cell_type": "code",
   "execution_count": 13,
   "metadata": {},
   "outputs": [
    {
     "name": "stdout",
     "output_type": "stream",
     "text": [
      "2013\n",
      "2014\n",
      "2015\n",
      "2016\n",
      "2017\n",
      "2018\n"
     ]
    },
    {
     "data": {
      "text/html": [
       "<div>\n",
       "<style scoped>\n",
       "    .dataframe tbody tr th:only-of-type {\n",
       "        vertical-align: middle;\n",
       "    }\n",
       "\n",
       "    .dataframe tbody tr th {\n",
       "        vertical-align: top;\n",
       "    }\n",
       "\n",
       "    .dataframe thead th {\n",
       "        text-align: right;\n",
       "    }\n",
       "</style>\n",
       "<table border=\"1\" class=\"dataframe\">\n",
       "  <thead>\n",
       "    <tr style=\"text-align: right;\">\n",
       "      <th></th>\n",
       "      <th>Rk</th>\n",
       "      <th>Team</th>\n",
       "      <th>Payroll</th>\n",
       "      <th>Adj_Payroll</th>\n",
       "      <th>Year</th>\n",
       "      <th>Conference</th>\n",
       "    </tr>\n",
       "  </thead>\n",
       "  <tbody>\n",
       "    <tr>\n",
       "      <th>25</th>\n",
       "      <td>26.</td>\n",
       "      <td>Phoenix</td>\n",
       "      <td>108692835.0</td>\n",
       "      <td>110484604.0</td>\n",
       "      <td>2018/19</td>\n",
       "      <td>Western</td>\n",
       "    </tr>\n",
       "    <tr>\n",
       "      <th>26</th>\n",
       "      <td>27.</td>\n",
       "      <td>LA Lakers</td>\n",
       "      <td>107225482.0</td>\n",
       "      <td>108993069.0</td>\n",
       "      <td>2018/19</td>\n",
       "      <td>Western</td>\n",
       "    </tr>\n",
       "    <tr>\n",
       "      <th>27</th>\n",
       "      <td>28.</td>\n",
       "      <td>Sacramento</td>\n",
       "      <td>101466920.0</td>\n",
       "      <td>103139575.0</td>\n",
       "      <td>2018/19</td>\n",
       "      <td>Western</td>\n",
       "    </tr>\n",
       "    <tr>\n",
       "      <th>28</th>\n",
       "      <td>29.</td>\n",
       "      <td>Dallas</td>\n",
       "      <td>86958881.0</td>\n",
       "      <td>88392374.0</td>\n",
       "      <td>2018/19</td>\n",
       "      <td>Western</td>\n",
       "    </tr>\n",
       "    <tr>\n",
       "      <th>29</th>\n",
       "      <td>30.</td>\n",
       "      <td>Atlanta</td>\n",
       "      <td>79180081.0</td>\n",
       "      <td>80485339.0</td>\n",
       "      <td>2018/19</td>\n",
       "      <td>Eastern</td>\n",
       "    </tr>\n",
       "  </tbody>\n",
       "</table>\n",
       "</div>"
      ],
      "text/plain": [
       "     Rk        Team      Payroll  Adj_Payroll     Year Conference\n",
       "25  26.     Phoenix  108692835.0  110484604.0  2018/19    Western\n",
       "26  27.   LA Lakers  107225482.0  108993069.0  2018/19    Western\n",
       "27  28.  Sacramento  101466920.0  103139575.0  2018/19    Western\n",
       "28  29.      Dallas   86958881.0   88392374.0  2018/19    Western\n",
       "29  30.     Atlanta   79180081.0   80485339.0  2018/19    Eastern"
      ]
     },
     "execution_count": 13,
     "metadata": {},
     "output_type": "execute_result"
    }
   ],
   "source": [
    "df = hoops_hype_year(2013,2019)\n",
    "df.tail()"
   ]
  },
  {
   "cell_type": "code",
   "execution_count": 7,
   "metadata": {},
   "outputs": [
    {
     "data": {
      "text/plain": [
       "846"
      ]
     },
     "execution_count": 7,
     "metadata": {},
     "output_type": "execute_result"
    }
   ],
   "source": [
    "len(df)\n",
    "# df.head()"
   ]
  },
  {
   "cell_type": "code",
   "execution_count": 14,
   "metadata": {},
   "outputs": [],
   "source": [
    "df.to_csv('NBA_payroll_2013to2019.csv')"
   ]
  },
  {
   "cell_type": "code",
   "execution_count": null,
   "metadata": {},
   "outputs": [],
   "source": []
  }
 ],
 "metadata": {
  "kernelspec": {
   "display_name": "Python 3",
   "language": "python",
   "name": "python3"
  },
  "language_info": {
   "codemirror_mode": {
    "name": "ipython",
    "version": 3
   },
   "file_extension": ".py",
   "mimetype": "text/x-python",
   "name": "python",
   "nbconvert_exporter": "python",
   "pygments_lexer": "ipython3",
   "version": "3.7.3"
  }
 },
 "nbformat": 4,
 "nbformat_minor": 4
}
